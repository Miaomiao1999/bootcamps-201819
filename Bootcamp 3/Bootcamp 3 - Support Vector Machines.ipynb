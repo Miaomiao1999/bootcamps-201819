{
 "cells": [
  {
   "cell_type": "code",
   "execution_count": 1,
   "metadata": {},
   "outputs": [
    {
     "data": {
      "text/plain": [
       "'/home/isayapin'"
      ]
     },
     "execution_count": 1,
     "metadata": {},
     "output_type": "execute_result"
    }
   ],
   "source": [
    "#Checking where your current working directory is\n",
    "import os\n",
    "os.getcwd()"
   ]
  },
  {
   "cell_type": "code",
   "execution_count": 2,
   "metadata": {},
   "outputs": [],
   "source": [
    "#Change your working directory to where your 'ccdef.csv' dataset is\n",
    "os.chdir('/home/isayapin/Desktop/Bootcamp_3')"
   ]
  },
  {
   "cell_type": "code",
   "execution_count": 3,
   "metadata": {},
   "outputs": [
    {
     "data": {
      "text/plain": [
       "'/home/isayapin/Desktop/Bootcamp_3'"
      ]
     },
     "execution_count": 3,
     "metadata": {},
     "output_type": "execute_result"
    }
   ],
   "source": [
    "#Check that the directory is changed correctly\n",
    "os.getcwd()"
   ]
  },
  {
   "cell_type": "code",
   "execution_count": 4,
   "metadata": {},
   "outputs": [],
   "source": [
    "#Importing the main libraries\n",
    "import numpy as np\n",
    "import matplotlib.pyplot as plt\n",
    "import pandas as pd"
   ]
  },
  {
   "cell_type": "code",
   "execution_count": 5,
   "metadata": {},
   "outputs": [],
   "source": [
    "# If there is any import error, please run the following 4 lines without the # sign\n",
    "# !pip install pandas\n",
    "# !pip install numpy\n",
    "# !pip install matplotlib\n",
    "# !pipinstall sklearn"
   ]
  },
  {
   "cell_type": "code",
   "execution_count": 6,
   "metadata": {},
   "outputs": [],
   "source": [
    "#Importing the dataset\n",
    "dataset = pd.read_csv('ccdef.csv', index_col = 'ID')"
   ]
  },
  {
   "cell_type": "code",
   "execution_count": 7,
   "metadata": {},
   "outputs": [
    {
     "data": {
      "text/html": [
       "<div>\n",
       "<style scoped>\n",
       "    .dataframe tbody tr th:only-of-type {\n",
       "        vertical-align: middle;\n",
       "    }\n",
       "\n",
       "    .dataframe tbody tr th {\n",
       "        vertical-align: top;\n",
       "    }\n",
       "\n",
       "    .dataframe thead th {\n",
       "        text-align: right;\n",
       "    }\n",
       "</style>\n",
       "<table border=\"1\" class=\"dataframe\">\n",
       "  <thead>\n",
       "    <tr style=\"text-align: right;\">\n",
       "      <th></th>\n",
       "      <th>default.payment.next.month</th>\n",
       "      <th>SEX</th>\n",
       "      <th>EDUCATION</th>\n",
       "      <th>MARRIAGE</th>\n",
       "      <th>AGE</th>\n",
       "      <th>LIMIT_BAL</th>\n",
       "      <th>PAY_1</th>\n",
       "      <th>PAY_3</th>\n",
       "      <th>PAY_5</th>\n",
       "      <th>BILL_AMT1</th>\n",
       "      <th>BILL_AMT3</th>\n",
       "      <th>BILL_AMT5</th>\n",
       "      <th>PAY_AMT1</th>\n",
       "      <th>PAY_AMT3</th>\n",
       "      <th>PAY_AMT5</th>\n",
       "    </tr>\n",
       "    <tr>\n",
       "      <th>ID</th>\n",
       "      <th></th>\n",
       "      <th></th>\n",
       "      <th></th>\n",
       "      <th></th>\n",
       "      <th></th>\n",
       "      <th></th>\n",
       "      <th></th>\n",
       "      <th></th>\n",
       "      <th></th>\n",
       "      <th></th>\n",
       "      <th></th>\n",
       "      <th></th>\n",
       "      <th></th>\n",
       "      <th></th>\n",
       "      <th></th>\n",
       "    </tr>\n",
       "  </thead>\n",
       "  <tbody>\n",
       "    <tr>\n",
       "      <th>0</th>\n",
       "      <td>1</td>\n",
       "      <td>Female</td>\n",
       "      <td>University</td>\n",
       "      <td>1</td>\n",
       "      <td>24</td>\n",
       "      <td>20000.0</td>\n",
       "      <td>2</td>\n",
       "      <td>-1</td>\n",
       "      <td>-2</td>\n",
       "      <td>3913.0</td>\n",
       "      <td>689.0</td>\n",
       "      <td>0.0</td>\n",
       "      <td>0.0</td>\n",
       "      <td>0.0</td>\n",
       "      <td>0.0</td>\n",
       "    </tr>\n",
       "    <tr>\n",
       "      <th>1</th>\n",
       "      <td>1</td>\n",
       "      <td>Female</td>\n",
       "      <td>University</td>\n",
       "      <td>0</td>\n",
       "      <td>26</td>\n",
       "      <td>120000.0</td>\n",
       "      <td>-1</td>\n",
       "      <td>0</td>\n",
       "      <td>0</td>\n",
       "      <td>2682.0</td>\n",
       "      <td>2682.0</td>\n",
       "      <td>3455.0</td>\n",
       "      <td>0.0</td>\n",
       "      <td>1000.0</td>\n",
       "      <td>0.0</td>\n",
       "    </tr>\n",
       "    <tr>\n",
       "      <th>2</th>\n",
       "      <td>0</td>\n",
       "      <td>Female</td>\n",
       "      <td>University</td>\n",
       "      <td>0</td>\n",
       "      <td>34</td>\n",
       "      <td>90000.0</td>\n",
       "      <td>0</td>\n",
       "      <td>0</td>\n",
       "      <td>0</td>\n",
       "      <td>29239.0</td>\n",
       "      <td>13559.0</td>\n",
       "      <td>14948.0</td>\n",
       "      <td>1518.0</td>\n",
       "      <td>1000.0</td>\n",
       "      <td>1000.0</td>\n",
       "    </tr>\n",
       "    <tr>\n",
       "      <th>3</th>\n",
       "      <td>0</td>\n",
       "      <td>Female</td>\n",
       "      <td>University</td>\n",
       "      <td>1</td>\n",
       "      <td>37</td>\n",
       "      <td>50000.0</td>\n",
       "      <td>0</td>\n",
       "      <td>0</td>\n",
       "      <td>0</td>\n",
       "      <td>46990.0</td>\n",
       "      <td>49291.0</td>\n",
       "      <td>28959.0</td>\n",
       "      <td>2000.0</td>\n",
       "      <td>1200.0</td>\n",
       "      <td>1069.0</td>\n",
       "    </tr>\n",
       "    <tr>\n",
       "      <th>4</th>\n",
       "      <td>0</td>\n",
       "      <td>Male</td>\n",
       "      <td>University</td>\n",
       "      <td>1</td>\n",
       "      <td>57</td>\n",
       "      <td>50000.0</td>\n",
       "      <td>-1</td>\n",
       "      <td>-1</td>\n",
       "      <td>0</td>\n",
       "      <td>8617.0</td>\n",
       "      <td>35835.0</td>\n",
       "      <td>19146.0</td>\n",
       "      <td>2000.0</td>\n",
       "      <td>10000.0</td>\n",
       "      <td>689.0</td>\n",
       "    </tr>\n",
       "  </tbody>\n",
       "</table>\n",
       "</div>"
      ],
      "text/plain": [
       "    default.payment.next.month     SEX   EDUCATION  MARRIAGE  AGE  LIMIT_BAL  \\\n",
       "ID                                                                             \n",
       "0                            1  Female  University         1   24    20000.0   \n",
       "1                            1  Female  University         0   26   120000.0   \n",
       "2                            0  Female  University         0   34    90000.0   \n",
       "3                            0  Female  University         1   37    50000.0   \n",
       "4                            0    Male  University         1   57    50000.0   \n",
       "\n",
       "    PAY_1  PAY_3  PAY_5  BILL_AMT1  BILL_AMT3  BILL_AMT5  PAY_AMT1  PAY_AMT3  \\\n",
       "ID                                                                             \n",
       "0       2     -1     -2     3913.0      689.0        0.0       0.0       0.0   \n",
       "1      -1      0      0     2682.0     2682.0     3455.0       0.0    1000.0   \n",
       "2       0      0      0    29239.0    13559.0    14948.0    1518.0    1000.0   \n",
       "3       0      0      0    46990.0    49291.0    28959.0    2000.0    1200.0   \n",
       "4      -1     -1      0     8617.0    35835.0    19146.0    2000.0   10000.0   \n",
       "\n",
       "    PAY_AMT5  \n",
       "ID            \n",
       "0        0.0  \n",
       "1        0.0  \n",
       "2     1000.0  \n",
       "3     1069.0  \n",
       "4      689.0  "
      ]
     },
     "execution_count": 7,
     "metadata": {},
     "output_type": "execute_result"
    }
   ],
   "source": [
    "dataset.head()"
   ]
  },
  {
   "cell_type": "code",
   "execution_count": 8,
   "metadata": {},
   "outputs": [],
   "source": [
    "#default.payment.next.month: Default payment (1=yes, 0=no)\n",
    "#SEX: {Male, Female}\n",
    "#EDUCATION: {Graduate School, University, High School, Others, Unknown}\n",
    "#MARRIAGE: Marital status (1=married, 0=single)\n",
    "#AGE: Age in years\n",
    "\n",
    "#LIMIT_BAL: Amount of given credit in NT dollars (includes individual and family/supplementary credit\n",
    "#PAY_1: Repayment status in September, 2005 (-1=pay duly, 1=payment delay for one month, \n",
    "#2=payment delay for two months, ... 8=payment delay for eight months, 9=payment delay for nine months and above)\n",
    "#PAY_3: Repayment status in July, 2005 (scale same as above)\n",
    "#PAY_5: Repayment status in May, 2005 (scale same as above)\n",
    "\n",
    "#BILL_AMT1: Amount of bill statement in September, 2005 (NT dollar)\n",
    "#BILL_AMT3: Amount of bill statement in July, 2005 (NT dollar)\n",
    "#BILL_AMT5: Amount of bill statement in May, 2005 (NT dollar)\n",
    "\n",
    "#PAY_AMT1: Amount of previous payment in September, 2005 (NT dollar)\n",
    "#PAY_AMT3: Amount of previous payment in July, 2005 (NT dollar)\n",
    "#PAY_AMT5: Amount of previous payment in May, 2005 (NT dollar)"
   ]
  },
  {
   "cell_type": "code",
   "execution_count": 9,
   "metadata": {},
   "outputs": [
    {
     "data": {
      "text/html": [
       "<div>\n",
       "<style scoped>\n",
       "    .dataframe tbody tr th:only-of-type {\n",
       "        vertical-align: middle;\n",
       "    }\n",
       "\n",
       "    .dataframe tbody tr th {\n",
       "        vertical-align: top;\n",
       "    }\n",
       "\n",
       "    .dataframe thead th {\n",
       "        text-align: right;\n",
       "    }\n",
       "</style>\n",
       "<table border=\"1\" class=\"dataframe\">\n",
       "  <thead>\n",
       "    <tr style=\"text-align: right;\">\n",
       "      <th></th>\n",
       "      <th>default.payment.next.month</th>\n",
       "      <th>MARRIAGE</th>\n",
       "      <th>AGE</th>\n",
       "      <th>LIMIT_BAL</th>\n",
       "      <th>PAY_1</th>\n",
       "      <th>PAY_3</th>\n",
       "      <th>PAY_5</th>\n",
       "      <th>BILL_AMT1</th>\n",
       "      <th>BILL_AMT3</th>\n",
       "      <th>BILL_AMT5</th>\n",
       "      <th>PAY_AMT1</th>\n",
       "      <th>PAY_AMT3</th>\n",
       "      <th>PAY_AMT5</th>\n",
       "      <th>SEX_Male</th>\n",
       "      <th>EDUCATION_High School</th>\n",
       "      <th>EDUCATION_Other</th>\n",
       "      <th>EDUCATION_University</th>\n",
       "      <th>EDUCATION_Unknown</th>\n",
       "    </tr>\n",
       "    <tr>\n",
       "      <th>ID</th>\n",
       "      <th></th>\n",
       "      <th></th>\n",
       "      <th></th>\n",
       "      <th></th>\n",
       "      <th></th>\n",
       "      <th></th>\n",
       "      <th></th>\n",
       "      <th></th>\n",
       "      <th></th>\n",
       "      <th></th>\n",
       "      <th></th>\n",
       "      <th></th>\n",
       "      <th></th>\n",
       "      <th></th>\n",
       "      <th></th>\n",
       "      <th></th>\n",
       "      <th></th>\n",
       "      <th></th>\n",
       "    </tr>\n",
       "  </thead>\n",
       "  <tbody>\n",
       "    <tr>\n",
       "      <th>0</th>\n",
       "      <td>1</td>\n",
       "      <td>1</td>\n",
       "      <td>24</td>\n",
       "      <td>20000.0</td>\n",
       "      <td>2</td>\n",
       "      <td>-1</td>\n",
       "      <td>-2</td>\n",
       "      <td>3913.0</td>\n",
       "      <td>689.0</td>\n",
       "      <td>0.0</td>\n",
       "      <td>0.0</td>\n",
       "      <td>0.0</td>\n",
       "      <td>0.0</td>\n",
       "      <td>0</td>\n",
       "      <td>0</td>\n",
       "      <td>0</td>\n",
       "      <td>1</td>\n",
       "      <td>0</td>\n",
       "    </tr>\n",
       "    <tr>\n",
       "      <th>1</th>\n",
       "      <td>1</td>\n",
       "      <td>0</td>\n",
       "      <td>26</td>\n",
       "      <td>120000.0</td>\n",
       "      <td>-1</td>\n",
       "      <td>0</td>\n",
       "      <td>0</td>\n",
       "      <td>2682.0</td>\n",
       "      <td>2682.0</td>\n",
       "      <td>3455.0</td>\n",
       "      <td>0.0</td>\n",
       "      <td>1000.0</td>\n",
       "      <td>0.0</td>\n",
       "      <td>0</td>\n",
       "      <td>0</td>\n",
       "      <td>0</td>\n",
       "      <td>1</td>\n",
       "      <td>0</td>\n",
       "    </tr>\n",
       "    <tr>\n",
       "      <th>2</th>\n",
       "      <td>0</td>\n",
       "      <td>0</td>\n",
       "      <td>34</td>\n",
       "      <td>90000.0</td>\n",
       "      <td>0</td>\n",
       "      <td>0</td>\n",
       "      <td>0</td>\n",
       "      <td>29239.0</td>\n",
       "      <td>13559.0</td>\n",
       "      <td>14948.0</td>\n",
       "      <td>1518.0</td>\n",
       "      <td>1000.0</td>\n",
       "      <td>1000.0</td>\n",
       "      <td>0</td>\n",
       "      <td>0</td>\n",
       "      <td>0</td>\n",
       "      <td>1</td>\n",
       "      <td>0</td>\n",
       "    </tr>\n",
       "    <tr>\n",
       "      <th>3</th>\n",
       "      <td>0</td>\n",
       "      <td>1</td>\n",
       "      <td>37</td>\n",
       "      <td>50000.0</td>\n",
       "      <td>0</td>\n",
       "      <td>0</td>\n",
       "      <td>0</td>\n",
       "      <td>46990.0</td>\n",
       "      <td>49291.0</td>\n",
       "      <td>28959.0</td>\n",
       "      <td>2000.0</td>\n",
       "      <td>1200.0</td>\n",
       "      <td>1069.0</td>\n",
       "      <td>0</td>\n",
       "      <td>0</td>\n",
       "      <td>0</td>\n",
       "      <td>1</td>\n",
       "      <td>0</td>\n",
       "    </tr>\n",
       "    <tr>\n",
       "      <th>4</th>\n",
       "      <td>0</td>\n",
       "      <td>1</td>\n",
       "      <td>57</td>\n",
       "      <td>50000.0</td>\n",
       "      <td>-1</td>\n",
       "      <td>-1</td>\n",
       "      <td>0</td>\n",
       "      <td>8617.0</td>\n",
       "      <td>35835.0</td>\n",
       "      <td>19146.0</td>\n",
       "      <td>2000.0</td>\n",
       "      <td>10000.0</td>\n",
       "      <td>689.0</td>\n",
       "      <td>1</td>\n",
       "      <td>0</td>\n",
       "      <td>0</td>\n",
       "      <td>1</td>\n",
       "      <td>0</td>\n",
       "    </tr>\n",
       "  </tbody>\n",
       "</table>\n",
       "</div>"
      ],
      "text/plain": [
       "    default.payment.next.month  MARRIAGE  AGE  LIMIT_BAL  PAY_1  PAY_3  PAY_5  \\\n",
       "ID                                                                              \n",
       "0                            1         1   24    20000.0      2     -1     -2   \n",
       "1                            1         0   26   120000.0     -1      0      0   \n",
       "2                            0         0   34    90000.0      0      0      0   \n",
       "3                            0         1   37    50000.0      0      0      0   \n",
       "4                            0         1   57    50000.0     -1     -1      0   \n",
       "\n",
       "    BILL_AMT1  BILL_AMT3  BILL_AMT5  PAY_AMT1  PAY_AMT3  PAY_AMT5  SEX_Male  \\\n",
       "ID                                                                            \n",
       "0      3913.0      689.0        0.0       0.0       0.0       0.0         0   \n",
       "1      2682.0     2682.0     3455.0       0.0    1000.0       0.0         0   \n",
       "2     29239.0    13559.0    14948.0    1518.0    1000.0    1000.0         0   \n",
       "3     46990.0    49291.0    28959.0    2000.0    1200.0    1069.0         0   \n",
       "4      8617.0    35835.0    19146.0    2000.0   10000.0     689.0         1   \n",
       "\n",
       "    EDUCATION_High School  EDUCATION_Other  EDUCATION_University  \\\n",
       "ID                                                                 \n",
       "0                       0                0                     1   \n",
       "1                       0                0                     1   \n",
       "2                       0                0                     1   \n",
       "3                       0                0                     1   \n",
       "4                       0                0                     1   \n",
       "\n",
       "    EDUCATION_Unknown  \n",
       "ID                     \n",
       "0                   0  \n",
       "1                   0  \n",
       "2                   0  \n",
       "3                   0  \n",
       "4                   0  "
      ]
     },
     "execution_count": 9,
     "metadata": {},
     "output_type": "execute_result"
    }
   ],
   "source": [
    "#Dealing with the dummy variables\n",
    "#drop_first = True to avoid dummy variable trap\n",
    "dataset = pd.get_dummies(dataset, columns = ['SEX', 'EDUCATION'], drop_first = True)\n",
    "dataset.head()"
   ]
  },
  {
   "cell_type": "code",
   "execution_count": 10,
   "metadata": {},
   "outputs": [],
   "source": [
    "#Bucketing the age groups\n",
    "\n",
    "#'Young': 21-33 y.o.\n",
    "#'Adults': 34-45 y.o.\n",
    "#'Mature': 46-60 y.0.\n",
    "#'Elderly': 61+ y.o."
   ]
  },
  {
   "cell_type": "code",
   "execution_count": 11,
   "metadata": {},
   "outputs": [
    {
     "data": {
      "text/plain": [
       "count    15000.000000\n",
       "mean        35.403733\n",
       "std          9.301267\n",
       "min         21.000000\n",
       "25%         28.000000\n",
       "50%         34.000000\n",
       "75%         41.000000\n",
       "max         75.000000\n",
       "Name: AGE, dtype: float64"
      ]
     },
     "execution_count": 11,
     "metadata": {},
     "output_type": "execute_result"
    }
   ],
   "source": [
    "dataset['AGE'].describe()"
   ]
  },
  {
   "cell_type": "code",
   "execution_count": 12,
   "metadata": {},
   "outputs": [],
   "source": [
    "#Splitting into age groups \n",
    "#Drop one group to avoid dummy variable trap\n",
    "dataset['young'] = ((dataset['AGE'] >= 21) & (dataset['AGE'] <= 35)).astype('int')\n",
    "dataset['adults'] = ((dataset['AGE'] >= 34) & (dataset['AGE'] <= 45)).astype('int')\n",
    "dataset['mature'] = ((dataset['AGE'] >= 46) & (dataset['AGE'] <= 60)).astype('int')\n",
    "del dataset['AGE']"
   ]
  },
  {
   "cell_type": "code",
   "execution_count": 13,
   "metadata": {},
   "outputs": [
    {
     "data": {
      "text/html": [
       "<div>\n",
       "<style scoped>\n",
       "    .dataframe tbody tr th:only-of-type {\n",
       "        vertical-align: middle;\n",
       "    }\n",
       "\n",
       "    .dataframe tbody tr th {\n",
       "        vertical-align: top;\n",
       "    }\n",
       "\n",
       "    .dataframe thead th {\n",
       "        text-align: right;\n",
       "    }\n",
       "</style>\n",
       "<table border=\"1\" class=\"dataframe\">\n",
       "  <thead>\n",
       "    <tr style=\"text-align: right;\">\n",
       "      <th></th>\n",
       "      <th>default.payment.next.month</th>\n",
       "      <th>MARRIAGE</th>\n",
       "      <th>LIMIT_BAL</th>\n",
       "      <th>PAY_1</th>\n",
       "      <th>PAY_3</th>\n",
       "      <th>PAY_5</th>\n",
       "      <th>BILL_AMT1</th>\n",
       "      <th>BILL_AMT3</th>\n",
       "      <th>BILL_AMT5</th>\n",
       "      <th>PAY_AMT1</th>\n",
       "      <th>PAY_AMT3</th>\n",
       "      <th>PAY_AMT5</th>\n",
       "      <th>SEX_Male</th>\n",
       "      <th>EDUCATION_High School</th>\n",
       "      <th>EDUCATION_Other</th>\n",
       "      <th>EDUCATION_University</th>\n",
       "      <th>EDUCATION_Unknown</th>\n",
       "      <th>young</th>\n",
       "      <th>adults</th>\n",
       "      <th>mature</th>\n",
       "    </tr>\n",
       "    <tr>\n",
       "      <th>ID</th>\n",
       "      <th></th>\n",
       "      <th></th>\n",
       "      <th></th>\n",
       "      <th></th>\n",
       "      <th></th>\n",
       "      <th></th>\n",
       "      <th></th>\n",
       "      <th></th>\n",
       "      <th></th>\n",
       "      <th></th>\n",
       "      <th></th>\n",
       "      <th></th>\n",
       "      <th></th>\n",
       "      <th></th>\n",
       "      <th></th>\n",
       "      <th></th>\n",
       "      <th></th>\n",
       "      <th></th>\n",
       "      <th></th>\n",
       "      <th></th>\n",
       "    </tr>\n",
       "  </thead>\n",
       "  <tbody>\n",
       "    <tr>\n",
       "      <th>0</th>\n",
       "      <td>1</td>\n",
       "      <td>1</td>\n",
       "      <td>20000.0</td>\n",
       "      <td>2</td>\n",
       "      <td>-1</td>\n",
       "      <td>-2</td>\n",
       "      <td>3913.0</td>\n",
       "      <td>689.0</td>\n",
       "      <td>0.0</td>\n",
       "      <td>0.0</td>\n",
       "      <td>0.0</td>\n",
       "      <td>0.0</td>\n",
       "      <td>0</td>\n",
       "      <td>0</td>\n",
       "      <td>0</td>\n",
       "      <td>1</td>\n",
       "      <td>0</td>\n",
       "      <td>1</td>\n",
       "      <td>0</td>\n",
       "      <td>0</td>\n",
       "    </tr>\n",
       "    <tr>\n",
       "      <th>1</th>\n",
       "      <td>1</td>\n",
       "      <td>0</td>\n",
       "      <td>120000.0</td>\n",
       "      <td>-1</td>\n",
       "      <td>0</td>\n",
       "      <td>0</td>\n",
       "      <td>2682.0</td>\n",
       "      <td>2682.0</td>\n",
       "      <td>3455.0</td>\n",
       "      <td>0.0</td>\n",
       "      <td>1000.0</td>\n",
       "      <td>0.0</td>\n",
       "      <td>0</td>\n",
       "      <td>0</td>\n",
       "      <td>0</td>\n",
       "      <td>1</td>\n",
       "      <td>0</td>\n",
       "      <td>1</td>\n",
       "      <td>0</td>\n",
       "      <td>0</td>\n",
       "    </tr>\n",
       "    <tr>\n",
       "      <th>2</th>\n",
       "      <td>0</td>\n",
       "      <td>0</td>\n",
       "      <td>90000.0</td>\n",
       "      <td>0</td>\n",
       "      <td>0</td>\n",
       "      <td>0</td>\n",
       "      <td>29239.0</td>\n",
       "      <td>13559.0</td>\n",
       "      <td>14948.0</td>\n",
       "      <td>1518.0</td>\n",
       "      <td>1000.0</td>\n",
       "      <td>1000.0</td>\n",
       "      <td>0</td>\n",
       "      <td>0</td>\n",
       "      <td>0</td>\n",
       "      <td>1</td>\n",
       "      <td>0</td>\n",
       "      <td>1</td>\n",
       "      <td>1</td>\n",
       "      <td>0</td>\n",
       "    </tr>\n",
       "    <tr>\n",
       "      <th>3</th>\n",
       "      <td>0</td>\n",
       "      <td>1</td>\n",
       "      <td>50000.0</td>\n",
       "      <td>0</td>\n",
       "      <td>0</td>\n",
       "      <td>0</td>\n",
       "      <td>46990.0</td>\n",
       "      <td>49291.0</td>\n",
       "      <td>28959.0</td>\n",
       "      <td>2000.0</td>\n",
       "      <td>1200.0</td>\n",
       "      <td>1069.0</td>\n",
       "      <td>0</td>\n",
       "      <td>0</td>\n",
       "      <td>0</td>\n",
       "      <td>1</td>\n",
       "      <td>0</td>\n",
       "      <td>0</td>\n",
       "      <td>1</td>\n",
       "      <td>0</td>\n",
       "    </tr>\n",
       "    <tr>\n",
       "      <th>4</th>\n",
       "      <td>0</td>\n",
       "      <td>1</td>\n",
       "      <td>50000.0</td>\n",
       "      <td>-1</td>\n",
       "      <td>-1</td>\n",
       "      <td>0</td>\n",
       "      <td>8617.0</td>\n",
       "      <td>35835.0</td>\n",
       "      <td>19146.0</td>\n",
       "      <td>2000.0</td>\n",
       "      <td>10000.0</td>\n",
       "      <td>689.0</td>\n",
       "      <td>1</td>\n",
       "      <td>0</td>\n",
       "      <td>0</td>\n",
       "      <td>1</td>\n",
       "      <td>0</td>\n",
       "      <td>0</td>\n",
       "      <td>0</td>\n",
       "      <td>1</td>\n",
       "    </tr>\n",
       "  </tbody>\n",
       "</table>\n",
       "</div>"
      ],
      "text/plain": [
       "    default.payment.next.month  MARRIAGE  LIMIT_BAL  PAY_1  PAY_3  PAY_5  \\\n",
       "ID                                                                         \n",
       "0                            1         1    20000.0      2     -1     -2   \n",
       "1                            1         0   120000.0     -1      0      0   \n",
       "2                            0         0    90000.0      0      0      0   \n",
       "3                            0         1    50000.0      0      0      0   \n",
       "4                            0         1    50000.0     -1     -1      0   \n",
       "\n",
       "    BILL_AMT1  BILL_AMT3  BILL_AMT5  PAY_AMT1  PAY_AMT3  PAY_AMT5  SEX_Male  \\\n",
       "ID                                                                            \n",
       "0      3913.0      689.0        0.0       0.0       0.0       0.0         0   \n",
       "1      2682.0     2682.0     3455.0       0.0    1000.0       0.0         0   \n",
       "2     29239.0    13559.0    14948.0    1518.0    1000.0    1000.0         0   \n",
       "3     46990.0    49291.0    28959.0    2000.0    1200.0    1069.0         0   \n",
       "4      8617.0    35835.0    19146.0    2000.0   10000.0     689.0         1   \n",
       "\n",
       "    EDUCATION_High School  EDUCATION_Other  EDUCATION_University  \\\n",
       "ID                                                                 \n",
       "0                       0                0                     1   \n",
       "1                       0                0                     1   \n",
       "2                       0                0                     1   \n",
       "3                       0                0                     1   \n",
       "4                       0                0                     1   \n",
       "\n",
       "    EDUCATION_Unknown  young  adults  mature  \n",
       "ID                                            \n",
       "0                   0      1       0       0  \n",
       "1                   0      1       0       0  \n",
       "2                   0      1       1       0  \n",
       "3                   0      0       1       0  \n",
       "4                   0      0       0       1  "
      ]
     },
     "execution_count": 13,
     "metadata": {},
     "output_type": "execute_result"
    }
   ],
   "source": [
    "dataset.head()"
   ]
  },
  {
   "cell_type": "code",
   "execution_count": 14,
   "metadata": {},
   "outputs": [],
   "source": [
    "#Splitting data into dependent and independent variables \n",
    "X = dataset.iloc[:, 1:].values\n",
    "y = dataset.iloc[:, 0].values"
   ]
  },
  {
   "cell_type": "code",
   "execution_count": 15,
   "metadata": {},
   "outputs": [
    {
     "name": "stdout",
     "output_type": "stream",
     "text": [
      "(15000, 20)\n"
     ]
    }
   ],
   "source": [
    "print(dataset.shape)"
   ]
  },
  {
   "cell_type": "code",
   "execution_count": 16,
   "metadata": {},
   "outputs": [
    {
     "name": "stdout",
     "output_type": "stream",
     "text": [
      "(15000, 19)\n",
      "(15000,)\n"
     ]
    }
   ],
   "source": [
    "print(X.shape)\n",
    "print(y.shape)"
   ]
  },
  {
   "cell_type": "code",
   "execution_count": 17,
   "metadata": {},
   "outputs": [],
   "source": [
    "#Splitting data into training and testing (validation) sets\n",
    "from sklearn.model_selection import train_test_split\n",
    "X_train, X_test, y_train, y_test = train_test_split(X, y, test_size = 0.2, random_state = 0)"
   ]
  },
  {
   "cell_type": "code",
   "execution_count": 18,
   "metadata": {},
   "outputs": [],
   "source": [
    "#Feature scaling\n",
    "from sklearn.preprocessing import StandardScaler\n",
    "sc = StandardScaler()\n",
    "X_train = sc.fit_transform(X_train)\n",
    "X_test = sc.transform(X_test)"
   ]
  },
  {
   "cell_type": "code",
   "execution_count": 19,
   "metadata": {},
   "outputs": [
    {
     "data": {
      "text/plain": [
       "SVC(C=1.0, cache_size=200, class_weight=None, coef0=0.0,\n",
       "  decision_function_shape='ovr', degree=3, gamma='auto_deprecated',\n",
       "  kernel='linear', max_iter=-1, probability=False, random_state=0,\n",
       "  shrinking=True, tol=0.001, verbose=False)"
      ]
     },
     "execution_count": 19,
     "metadata": {},
     "output_type": "execute_result"
    }
   ],
   "source": [
    "#Fitting data to Support Vector Classifier (SVC)\n",
    "from sklearn.svm import SVC\n",
    "classifier = SVC(kernel = 'linear', random_state = 0)\n",
    "classifier.fit(X_train, y_train)"
   ]
  },
  {
   "cell_type": "code",
   "execution_count": 20,
   "metadata": {},
   "outputs": [
    {
     "name": "stdout",
     "output_type": "stream",
     "text": [
      "Accuracy = 0.772\n"
     ]
    }
   ],
   "source": [
    "#Evaluating the performance of the classifier\n",
    "y_pred = classifier.predict(X_test)\n",
    "from sklearn.metrics import accuracy_score, f1_score, confusion_matrix\n",
    "print('Accuracy = %.3f' % accuracy_score(y_pred, y_test))"
   ]
  },
  {
   "cell_type": "code",
   "execution_count": 21,
   "metadata": {},
   "outputs": [
    {
     "data": {
      "text/plain": [
       "(array([0]), array([3000]))"
      ]
     },
     "execution_count": 21,
     "metadata": {},
     "output_type": "execute_result"
    }
   ],
   "source": [
    "#Is this accuracy good? Let's find out\n",
    "np.unique(y_pred, return_counts=True)"
   ]
  },
  {
   "cell_type": "code",
   "execution_count": 22,
   "metadata": {},
   "outputs": [
    {
     "name": "stdout",
     "output_type": "stream",
     "text": [
      "Confusion Matrix = \n",
      " [[2317  683]\n",
      " [   0    0]]\n",
      "F_1 Score = 0.000\n"
     ]
    },
    {
     "name": "stderr",
     "output_type": "stream",
     "text": [
      "/home/isayapin/anaconda3/lib/python3.6/site-packages/sklearn/metrics/classification.py:1145: UndefinedMetricWarning: F-score is ill-defined and being set to 0.0 due to no true samples.\n",
      "  'recall', 'true', average, warn_for)\n"
     ]
    }
   ],
   "source": [
    "#Look at how the classifier predicted \n",
    "print('Confusion Matrix = \\n', confusion_matrix(y_pred, y_test))\n",
    "print('F_1 Score = %.3f' % f1_score(y_pred, y_test))"
   ]
  },
  {
   "cell_type": "code",
   "execution_count": 23,
   "metadata": {},
   "outputs": [
    {
     "data": {
      "text/plain": [
       "SVC(C=1.0, cache_size=200, class_weight=None, coef0=0.0,\n",
       "  decision_function_shape='ovr', degree=3, gamma='auto_deprecated',\n",
       "  kernel='poly', max_iter=-1, probability=False, random_state=0,\n",
       "  shrinking=True, tol=0.001, verbose=False)"
      ]
     },
     "execution_count": 23,
     "metadata": {},
     "output_type": "execute_result"
    }
   ],
   "source": [
    "#Time to improve our model\n",
    "#Fitting data to Support Vector Classifier (SVC)\n",
    "classifier = SVC(kernel = 'poly', random_state = 0)\n",
    "classifier.fit(X_train, y_train)"
   ]
  },
  {
   "cell_type": "code",
   "execution_count": 24,
   "metadata": {},
   "outputs": [
    {
     "name": "stdout",
     "output_type": "stream",
     "text": [
      "Accuracy = 0.788\n"
     ]
    }
   ],
   "source": [
    "#Evaluating the performance of the classifier\n",
    "y_pred = classifier.predict(X_test)\n",
    "print('Accuracy = %.3f' % accuracy_score(y_pred, y_test))"
   ]
  },
  {
   "cell_type": "code",
   "execution_count": 25,
   "metadata": {},
   "outputs": [
    {
     "name": "stdout",
     "output_type": "stream",
     "text": [
      "Confusion Matrix = \n",
      " [[2268  586]\n",
      " [  49   97]]\n",
      "F_1 Score = 0.234\n"
     ]
    }
   ],
   "source": [
    "#Look at how the classifier predicted \n",
    "print('Confusion Matrix = \\n', confusion_matrix(y_pred, y_test))\n",
    "print('F_1 Score = %.3f' % f1_score(y_pred, y_test))"
   ]
  },
  {
   "cell_type": "code",
   "execution_count": 26,
   "metadata": {},
   "outputs": [
    {
     "data": {
      "text/plain": [
       "SVC(C=1.0, cache_size=200, class_weight=None, coef0=0.0,\n",
       "  decision_function_shape='ovr', degree=3, gamma='auto_deprecated',\n",
       "  kernel='rbf', max_iter=-1, probability=False, random_state=0,\n",
       "  shrinking=True, tol=0.001, verbose=False)"
      ]
     },
     "execution_count": 26,
     "metadata": {},
     "output_type": "execute_result"
    }
   ],
   "source": [
    "#Slightly better, but can still be improved\n",
    "#Fitting data to Support Vector Classifier (SVC)\n",
    "classifier = SVC(kernel = 'rbf', random_state = 0)\n",
    "classifier.fit(X_train, y_train)"
   ]
  },
  {
   "cell_type": "code",
   "execution_count": 27,
   "metadata": {},
   "outputs": [
    {
     "name": "stdout",
     "output_type": "stream",
     "text": [
      "Accuracy = 0.811\n"
     ]
    }
   ],
   "source": [
    "#Evaluating the performance of the classifier\n",
    "y_pred = classifier.predict(X_test)\n",
    "print('Accuracy = %.3f' % accuracy_score(y_pred, y_test))"
   ]
  },
  {
   "cell_type": "code",
   "execution_count": 28,
   "metadata": {},
   "outputs": [
    {
     "name": "stdout",
     "output_type": "stream",
     "text": [
      "Confusion Matrix = \n",
      " [[2238  487]\n",
      " [  79  196]]\n",
      "F_1 Score = 0.409\n"
     ]
    }
   ],
   "source": [
    "#Look at how the classifier predicted \n",
    "print('Confusion Matrix = \\n', confusion_matrix(y_pred, y_test))\n",
    "print('F_1 Score = %.3f' % f1_score(y_pred, y_test))"
   ]
  },
  {
   "cell_type": "code",
   "execution_count": 29,
   "metadata": {},
   "outputs": [],
   "source": [
    "#Hyperparameter tuning using Grid Search\n",
    "from sklearn.model_selection import GridSearchCV\n",
    "parameters = [{'C': [1, 2, 5, 10], 'gamma': ['auto', 'scale']}]"
   ]
  },
  {
   "cell_type": "code",
   "execution_count": 30,
   "metadata": {},
   "outputs": [
    {
     "name": "stderr",
     "output_type": "stream",
     "text": [
      "/home/isayapin/anaconda3/lib/python3.6/site-packages/sklearn/externals/joblib/externals/loky/process_executor.py:700: UserWarning: A worker stopped while some jobs were given to the executor. This can be caused by a too short worker timeout or by a memory leak.\n",
      "  \"timeout or by a memory leak.\", UserWarning\n"
     ]
    }
   ],
   "source": [
    "grid_search = GridSearchCV(estimator = classifier, param_grid = parameters, scoring = 'f1', cv = 5, n_jobs = -1)\n",
    "grid_search = grid_search.fit(X_train, y_train)"
   ]
  },
  {
   "cell_type": "code",
   "execution_count": 35,
   "metadata": {
    "scrolled": false
   },
   "outputs": [
    {
     "name": "stdout",
     "output_type": "stream",
     "text": [
      "Best Parameters = {'C': 2, 'gamma': 'auto'}\n"
     ]
    }
   ],
   "source": [
    "print('Best Parameters = %s' % grid_search.best_params_)"
   ]
  },
  {
   "cell_type": "code",
   "execution_count": 36,
   "metadata": {},
   "outputs": [
    {
     "data": {
      "text/plain": [
       "SVC(C=2, cache_size=200, class_weight=None, coef0=0.0,\n",
       "  decision_function_shape='ovr', degree=3, gamma='auto', kernel='rbf',\n",
       "  max_iter=-1, probability=False, random_state=0, shrinking=True,\n",
       "  tol=0.001, verbose=False)"
      ]
     },
     "execution_count": 36,
     "metadata": {},
     "output_type": "execute_result"
    }
   ],
   "source": [
    "#Fit the model with the improved hyperparameters\n",
    "classifier = SVC(kernel = 'rbf', C = 2, gamma = 'auto', random_state = 0)\n",
    "classifier.fit(X_train, y_train)"
   ]
  },
  {
   "cell_type": "code",
   "execution_count": 37,
   "metadata": {},
   "outputs": [
    {
     "name": "stdout",
     "output_type": "stream",
     "text": [
      "Accuracy = 0.812\n"
     ]
    }
   ],
   "source": [
    "#Evaluating the performance of the classifier\n",
    "y_pred = classifier.predict(X_test)\n",
    "print('Accuracy = %.3f' % accuracy_score(y_pred, y_test))"
   ]
  },
  {
   "cell_type": "code",
   "execution_count": 38,
   "metadata": {},
   "outputs": [
    {
     "name": "stdout",
     "output_type": "stream",
     "text": [
      "Confusion Matrix = \n",
      " [[2238  485]\n",
      " [  79  198]]\n",
      "F_1 Score = 0.413\n"
     ]
    }
   ],
   "source": [
    "#Look at how the classifier predicted \n",
    "print('Confusion Matrix = \\n', confusion_matrix(y_pred, y_test))\n",
    "print('F_1 Score = %.3f' % f1_score(y_pred, y_test))"
   ]
  }
 ],
 "metadata": {
  "kernelspec": {
   "display_name": "Python 3",
   "language": "python",
   "name": "python3"
  },
  "language_info": {
   "codemirror_mode": {
    "name": "ipython",
    "version": 3
   },
   "file_extension": ".py",
   "mimetype": "text/x-python",
   "name": "python",
   "nbconvert_exporter": "python",
   "pygments_lexer": "ipython3",
   "version": "3.6.6"
  }
 },
 "nbformat": 4,
 "nbformat_minor": 2
}
