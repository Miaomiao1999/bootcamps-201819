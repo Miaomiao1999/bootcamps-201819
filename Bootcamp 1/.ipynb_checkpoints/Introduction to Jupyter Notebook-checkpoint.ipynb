{
 "cells": [
  {
   "cell_type": "code",
   "execution_count": 1,
   "metadata": {},
   "outputs": [],
   "source": [
    "# This is a comment - it is achieved by using the # sign"
   ]
  },
  {
   "cell_type": "code",
   "execution_count": 2,
   "metadata": {},
   "outputs": [
    {
     "name": "stdout",
     "output_type": "stream",
     "text": [
      "11\n"
     ]
    }
   ],
   "source": [
    "# The three following lines are code\n",
    "x = 5 \n",
    "y = 6\n",
    "print(x+y)"
   ]
  },
  {
   "cell_type": "code",
   "execution_count": 3,
   "metadata": {},
   "outputs": [
    {
     "name": "stdout",
     "output_type": "stream",
     "text": [
      "Requirement already satisfied: pandas in /Library/Frameworks/Python.framework/Versions/3.7/lib/python3.7/site-packages (0.23.4)\n",
      "Requirement already satisfied: python-dateutil>=2.5.0 in /Library/Frameworks/Python.framework/Versions/3.7/lib/python3.7/site-packages (from pandas) (2.7.3)\n",
      "Requirement already satisfied: pytz>=2011k in /Library/Frameworks/Python.framework/Versions/3.7/lib/python3.7/site-packages (from pandas) (2018.5)\n",
      "Requirement already satisfied: numpy>=1.9.0 in /Library/Frameworks/Python.framework/Versions/3.7/lib/python3.7/site-packages (from pandas) (1.15.1)\n",
      "Requirement already satisfied: six>=1.5 in /Library/Frameworks/Python.framework/Versions/3.7/lib/python3.7/site-packages (from python-dateutil>=2.5.0->pandas) (1.11.0)\n",
      "\u001b[33mYou are using pip version 18.0, however version 18.1 is available.\n",
      "You should consider upgrading via the 'pip install --upgrade pip' command.\u001b[0m\n"
     ]
    }
   ],
   "source": [
    "# Addition obviously seems very lame, let's see if we can do more\n",
    "# Why not import data? \n",
    "# For this we need to use pandas, which is a data processing library \n",
    "# Libraries are basically amazing code written by software engineers that save us from having to reinvent the wheel \n",
    "# We are going to use the pandas library today - na\n",
    "!pip install pandas \n",
    "import pandas as pd \n",
    "dataset = pd.read_csv('carseats.csv')"
   ]
  },
  {
   "cell_type": "code",
   "execution_count": 4,
   "metadata": {},
   "outputs": [
    {
     "data": {
      "text/html": [
       "<div>\n",
       "<style scoped>\n",
       "    .dataframe tbody tr th:only-of-type {\n",
       "        vertical-align: middle;\n",
       "    }\n",
       "\n",
       "    .dataframe tbody tr th {\n",
       "        vertical-align: top;\n",
       "    }\n",
       "\n",
       "    .dataframe thead th {\n",
       "        text-align: right;\n",
       "    }\n",
       "</style>\n",
       "<table border=\"1\" class=\"dataframe\">\n",
       "  <thead>\n",
       "    <tr style=\"text-align: right;\">\n",
       "      <th></th>\n",
       "      <th>Unnamed: 0</th>\n",
       "      <th>Sales</th>\n",
       "      <th>CompPrice</th>\n",
       "      <th>Income</th>\n",
       "      <th>Advertising</th>\n",
       "      <th>Population</th>\n",
       "      <th>Price</th>\n",
       "      <th>ShelveLoc</th>\n",
       "      <th>Age</th>\n",
       "      <th>Education</th>\n",
       "      <th>Urban</th>\n",
       "      <th>US</th>\n",
       "    </tr>\n",
       "  </thead>\n",
       "  <tbody>\n",
       "    <tr>\n",
       "      <th>0</th>\n",
       "      <td>1</td>\n",
       "      <td>9.50</td>\n",
       "      <td>138</td>\n",
       "      <td>73</td>\n",
       "      <td>11</td>\n",
       "      <td>276</td>\n",
       "      <td>120</td>\n",
       "      <td>Bad</td>\n",
       "      <td>42</td>\n",
       "      <td>17</td>\n",
       "      <td>Yes</td>\n",
       "      <td>Yes</td>\n",
       "    </tr>\n",
       "    <tr>\n",
       "      <th>1</th>\n",
       "      <td>2</td>\n",
       "      <td>11.22</td>\n",
       "      <td>111</td>\n",
       "      <td>48</td>\n",
       "      <td>16</td>\n",
       "      <td>260</td>\n",
       "      <td>83</td>\n",
       "      <td>Good</td>\n",
       "      <td>65</td>\n",
       "      <td>10</td>\n",
       "      <td>Yes</td>\n",
       "      <td>Yes</td>\n",
       "    </tr>\n",
       "    <tr>\n",
       "      <th>2</th>\n",
       "      <td>3</td>\n",
       "      <td>10.06</td>\n",
       "      <td>113</td>\n",
       "      <td>35</td>\n",
       "      <td>10</td>\n",
       "      <td>269</td>\n",
       "      <td>80</td>\n",
       "      <td>Medium</td>\n",
       "      <td>59</td>\n",
       "      <td>12</td>\n",
       "      <td>Yes</td>\n",
       "      <td>Yes</td>\n",
       "    </tr>\n",
       "    <tr>\n",
       "      <th>3</th>\n",
       "      <td>4</td>\n",
       "      <td>7.40</td>\n",
       "      <td>117</td>\n",
       "      <td>100</td>\n",
       "      <td>4</td>\n",
       "      <td>466</td>\n",
       "      <td>97</td>\n",
       "      <td>Medium</td>\n",
       "      <td>55</td>\n",
       "      <td>14</td>\n",
       "      <td>Yes</td>\n",
       "      <td>Yes</td>\n",
       "    </tr>\n",
       "    <tr>\n",
       "      <th>4</th>\n",
       "      <td>5</td>\n",
       "      <td>4.15</td>\n",
       "      <td>141</td>\n",
       "      <td>64</td>\n",
       "      <td>3</td>\n",
       "      <td>340</td>\n",
       "      <td>128</td>\n",
       "      <td>Bad</td>\n",
       "      <td>38</td>\n",
       "      <td>13</td>\n",
       "      <td>Yes</td>\n",
       "      <td>No</td>\n",
       "    </tr>\n",
       "  </tbody>\n",
       "</table>\n",
       "</div>"
      ],
      "text/plain": [
       "   Unnamed: 0  Sales  CompPrice  Income  Advertising  Population  Price  \\\n",
       "0           1   9.50        138      73           11         276    120   \n",
       "1           2  11.22        111      48           16         260     83   \n",
       "2           3  10.06        113      35           10         269     80   \n",
       "3           4   7.40        117     100            4         466     97   \n",
       "4           5   4.15        141      64            3         340    128   \n",
       "\n",
       "  ShelveLoc  Age  Education Urban   US  \n",
       "0       Bad   42         17   Yes  Yes  \n",
       "1      Good   65         10   Yes  Yes  \n",
       "2    Medium   59         12   Yes  Yes  \n",
       "3    Medium   55         14   Yes  Yes  \n",
       "4       Bad   38         13   Yes   No  "
      ]
     },
     "execution_count": 4,
     "metadata": {},
     "output_type": "execute_result"
    }
   ],
   "source": [
    "dataset.head()"
   ]
  },
  {
   "cell_type": "code",
   "execution_count": 5,
   "metadata": {},
   "outputs": [
    {
     "data": {
      "text/plain": [
       "(400, 12)"
      ]
     },
     "execution_count": 5,
     "metadata": {},
     "output_type": "execute_result"
    }
   ],
   "source": [
    "dataset.shape"
   ]
  },
  {
   "cell_type": "code",
   "execution_count": 6,
   "metadata": {},
   "outputs": [
    {
     "data": {
      "text/html": [
       "<div>\n",
       "<style scoped>\n",
       "    .dataframe tbody tr th:only-of-type {\n",
       "        vertical-align: middle;\n",
       "    }\n",
       "\n",
       "    .dataframe tbody tr th {\n",
       "        vertical-align: top;\n",
       "    }\n",
       "\n",
       "    .dataframe thead th {\n",
       "        text-align: right;\n",
       "    }\n",
       "</style>\n",
       "<table border=\"1\" class=\"dataframe\">\n",
       "  <thead>\n",
       "    <tr style=\"text-align: right;\">\n",
       "      <th></th>\n",
       "      <th>Unnamed: 0</th>\n",
       "      <th>Sales</th>\n",
       "      <th>CompPrice</th>\n",
       "      <th>Income</th>\n",
       "      <th>Advertising</th>\n",
       "      <th>Population</th>\n",
       "      <th>Price</th>\n",
       "      <th>Age</th>\n",
       "      <th>Education</th>\n",
       "    </tr>\n",
       "  </thead>\n",
       "  <tbody>\n",
       "    <tr>\n",
       "      <th>count</th>\n",
       "      <td>400.000000</td>\n",
       "      <td>400.000000</td>\n",
       "      <td>400.000000</td>\n",
       "      <td>400.000000</td>\n",
       "      <td>400.000000</td>\n",
       "      <td>400.000000</td>\n",
       "      <td>400.000000</td>\n",
       "      <td>400.000000</td>\n",
       "      <td>400.000000</td>\n",
       "    </tr>\n",
       "    <tr>\n",
       "      <th>mean</th>\n",
       "      <td>200.500000</td>\n",
       "      <td>7.496325</td>\n",
       "      <td>124.975000</td>\n",
       "      <td>68.657500</td>\n",
       "      <td>6.635000</td>\n",
       "      <td>264.840000</td>\n",
       "      <td>115.795000</td>\n",
       "      <td>53.322500</td>\n",
       "      <td>13.900000</td>\n",
       "    </tr>\n",
       "    <tr>\n",
       "      <th>std</th>\n",
       "      <td>115.614301</td>\n",
       "      <td>2.824115</td>\n",
       "      <td>15.334512</td>\n",
       "      <td>27.986037</td>\n",
       "      <td>6.650364</td>\n",
       "      <td>147.376436</td>\n",
       "      <td>23.676664</td>\n",
       "      <td>16.200297</td>\n",
       "      <td>2.620528</td>\n",
       "    </tr>\n",
       "    <tr>\n",
       "      <th>min</th>\n",
       "      <td>1.000000</td>\n",
       "      <td>0.000000</td>\n",
       "      <td>77.000000</td>\n",
       "      <td>21.000000</td>\n",
       "      <td>0.000000</td>\n",
       "      <td>10.000000</td>\n",
       "      <td>24.000000</td>\n",
       "      <td>25.000000</td>\n",
       "      <td>10.000000</td>\n",
       "    </tr>\n",
       "    <tr>\n",
       "      <th>25%</th>\n",
       "      <td>100.750000</td>\n",
       "      <td>5.390000</td>\n",
       "      <td>115.000000</td>\n",
       "      <td>42.750000</td>\n",
       "      <td>0.000000</td>\n",
       "      <td>139.000000</td>\n",
       "      <td>100.000000</td>\n",
       "      <td>39.750000</td>\n",
       "      <td>12.000000</td>\n",
       "    </tr>\n",
       "    <tr>\n",
       "      <th>50%</th>\n",
       "      <td>200.500000</td>\n",
       "      <td>7.490000</td>\n",
       "      <td>125.000000</td>\n",
       "      <td>69.000000</td>\n",
       "      <td>5.000000</td>\n",
       "      <td>272.000000</td>\n",
       "      <td>117.000000</td>\n",
       "      <td>54.500000</td>\n",
       "      <td>14.000000</td>\n",
       "    </tr>\n",
       "    <tr>\n",
       "      <th>75%</th>\n",
       "      <td>300.250000</td>\n",
       "      <td>9.320000</td>\n",
       "      <td>135.000000</td>\n",
       "      <td>91.000000</td>\n",
       "      <td>12.000000</td>\n",
       "      <td>398.500000</td>\n",
       "      <td>131.000000</td>\n",
       "      <td>66.000000</td>\n",
       "      <td>16.000000</td>\n",
       "    </tr>\n",
       "    <tr>\n",
       "      <th>max</th>\n",
       "      <td>400.000000</td>\n",
       "      <td>16.270000</td>\n",
       "      <td>175.000000</td>\n",
       "      <td>120.000000</td>\n",
       "      <td>29.000000</td>\n",
       "      <td>509.000000</td>\n",
       "      <td>191.000000</td>\n",
       "      <td>80.000000</td>\n",
       "      <td>18.000000</td>\n",
       "    </tr>\n",
       "  </tbody>\n",
       "</table>\n",
       "</div>"
      ],
      "text/plain": [
       "       Unnamed: 0       Sales   CompPrice      Income  Advertising  \\\n",
       "count  400.000000  400.000000  400.000000  400.000000   400.000000   \n",
       "mean   200.500000    7.496325  124.975000   68.657500     6.635000   \n",
       "std    115.614301    2.824115   15.334512   27.986037     6.650364   \n",
       "min      1.000000    0.000000   77.000000   21.000000     0.000000   \n",
       "25%    100.750000    5.390000  115.000000   42.750000     0.000000   \n",
       "50%    200.500000    7.490000  125.000000   69.000000     5.000000   \n",
       "75%    300.250000    9.320000  135.000000   91.000000    12.000000   \n",
       "max    400.000000   16.270000  175.000000  120.000000    29.000000   \n",
       "\n",
       "       Population       Price         Age   Education  \n",
       "count  400.000000  400.000000  400.000000  400.000000  \n",
       "mean   264.840000  115.795000   53.322500   13.900000  \n",
       "std    147.376436   23.676664   16.200297    2.620528  \n",
       "min     10.000000   24.000000   25.000000   10.000000  \n",
       "25%    139.000000  100.000000   39.750000   12.000000  \n",
       "50%    272.000000  117.000000   54.500000   14.000000  \n",
       "75%    398.500000  131.000000   66.000000   16.000000  \n",
       "max    509.000000  191.000000   80.000000   18.000000  "
      ]
     },
     "execution_count": 6,
     "metadata": {},
     "output_type": "execute_result"
    }
   ],
   "source": [
    "dataset.describe()"
   ]
  },
  {
   "cell_type": "code",
   "execution_count": 7,
   "metadata": {},
   "outputs": [
    {
     "data": {
      "text/plain": [
       "16.27"
      ]
     },
     "execution_count": 7,
     "metadata": {},
     "output_type": "execute_result"
    }
   ],
   "source": [
    "dataset.Sales.max()"
   ]
  },
  {
   "cell_type": "code",
   "execution_count": 12,
   "metadata": {},
   "outputs": [],
   "source": [
    "import numpy as np\n",
    "import matplotlib.pyplot as plt "
   ]
  },
  {
   "cell_type": "code",
   "execution_count": 17,
   "metadata": {},
   "outputs": [
    {
     "data": {
      "text/plain": [
       "<matplotlib.collections.PathCollection at 0x1165760b8>"
      ]
     },
     "execution_count": 17,
     "metadata": {},
     "output_type": "execute_result"
    },
    {
     "data": {
      "image/png": "[encoded data removed]",
      "text/plain": [
       "<Figure size 432x288 with 1 Axes>"
      ]
     },
     "metadata": {
      "needs_background": "light"
     },
     "output_type": "display_data"
    }
   ],
   "source": [
    "X = dataset.Income.values\n",
    "Y = dataset.Price.values\n",
    "plt.scatter(X,Y)"
   ]
  },
  {
   "cell_type": "code",
   "execution_count": 18,
   "metadata": {},
   "outputs": [],
   "source": [
    "# Why not let's try to do a simple Linear Regression?\n",
    "from sklearn.linear_model import LinearRegression"
   ]
  },
  {
   "cell_type": "code",
   "execution_count": 19,
   "metadata": {},
   "outputs": [],
   "source": [
    "X = dataset.Income.values"
   ]
  },
  {
   "cell_type": "code",
   "execution_count": 20,
   "metadata": {},
   "outputs": [],
   "source": [
    "Y = dataset.Price.values"
   ]
  },
  {
   "cell_type": "code",
   "execution_count": 21,
   "metadata": {},
   "outputs": [],
   "source": [
    "model = LinearRegression()"
   ]
  },
  {
   "cell_type": "code",
   "execution_count": 22,
   "metadata": {},
   "outputs": [
    {
     "name": "stderr",
     "output_type": "stream",
     "text": [
      "/Library/Frameworks/Python.framework/Versions/3.7/lib/python3.7/site-packages/sklearn/linear_model/base.py:509: RuntimeWarning: internal gelsd driver lwork query error, required iwork dimension not returned. This is likely the result of LAPACK bug 0038, fixed in LAPACK 3.2.2 (released July 21, 2010). Falling back to 'gelss' driver.\n",
      "  linalg.lstsq(X, y)\n"
     ]
    },
    {
     "data": {
      "text/plain": [
       "LinearRegression(copy_X=True, fit_intercept=True, n_jobs=1, normalize=False)"
      ]
     },
     "execution_count": 22,
     "metadata": {},
     "output_type": "execute_result"
    }
   ],
   "source": [
    "model.fit(X.reshape(-1,1), Y)"
   ]
  },
  {
   "cell_type": "code",
   "execution_count": 23,
   "metadata": {},
   "outputs": [
    {
     "data": {
      "text/plain": [
       "array([115.5867005 , 116.78589165, 117.40947105, 114.29157405,\n",
       "       116.01840931, 113.66799465, 114.05173582, 115.20295933,\n",
       "       113.81189759, 113.66799465, 115.34686227, 114.57937993,\n",
       "       117.40947105, 117.74524457, 113.47612407, 114.53141228,\n",
       "       117.55337399, 115.53873285, 113.81189759, 115.44279756,\n",
       "       114.77125051, 117.69727693, 116.88182694, 117.60134163,\n",
       "       113.38018878, 117.55337399, 113.57205936, 113.42815642,\n",
       "       115.53873285, 114.3395417 , 114.57937993, 116.30621519,\n",
       "       117.55337399, 117.26556811, 116.49808577, 115.05905639,\n",
       "       115.44279756, 117.12166517, 115.5867005 , 116.2102799 ,\n",
       "       114.38750934, 116.54605342, 115.77857108, 117.07369753,\n",
       "       115.29889462, 116.06637696, 114.77125051, 114.38750934,\n",
       "       116.59402107, 114.62734757, 117.55337399, 114.77125051,\n",
       "       117.16963282, 116.01840931, 114.14767111, 115.20295933,\n",
       "       115.15499168, 114.72328287, 114.62734757, 115.68263579,\n",
       "       114.19563876, 117.55337399, 116.92979459, 114.8671858 ,\n",
       "       115.87450637, 117.84117986, 114.67531522, 116.16231225,\n",
       "       115.77857108, 116.25824754, 115.20295933, 116.64198871,\n",
       "       116.92979459, 114.77125051, 115.82653873, 113.76392994,\n",
       "       114.91515345, 115.68263579, 116.78589165, 115.87450637,\n",
       "       114.29157405, 115.63466814, 115.10702404, 117.3615034 ,\n",
       "       117.88914751, 114.14767111, 115.05905639, 115.87450637,\n",
       "       117.07369753, 115.92247402, 118.03305045, 116.88182694,\n",
       "       113.66799465, 117.64930928, 114.43547699, 117.88914751,\n",
       "       117.07369753, 115.15499168, 115.39482991, 116.8338593 ,\n",
       "       115.77857108, 114.62734757, 118.03305045, 114.72328287,\n",
       "       114.48344464, 114.29157405, 117.50540634, 113.95580053,\n",
       "       115.29889462, 115.97044167, 116.1143446 , 113.42815642,\n",
       "       114.3395417 , 117.69727693, 114.91515345, 117.40947105,\n",
       "       115.4907652 , 116.54605342, 114.8671858 , 114.57937993,\n",
       "       114.05173582, 114.81921816, 114.29157405, 114.14767111,\n",
       "       113.66799465, 115.34686227, 115.82653873, 116.78589165,\n",
       "       114.29157405, 113.33222113, 115.05905639, 115.77857108,\n",
       "       114.91515345, 114.38750934, 117.60134163, 114.57937993,\n",
       "       115.4907652 , 117.07369753, 114.14767111, 116.1143446 ,\n",
       "       116.2102799 , 117.07369753, 115.05905639, 114.8671858 ,\n",
       "       115.82653873, 116.06637696, 115.10702404, 116.49808577,\n",
       "       113.38018878, 113.33222113, 115.05905639, 116.30621519,\n",
       "       115.34686227, 117.3615034 , 115.77857108, 115.63466814,\n",
       "       117.4574387 , 116.30621519, 114.77125051, 116.2102799 ,\n",
       "       117.74524457, 118.08101809, 115.53873285, 116.01840931,\n",
       "       116.01840931, 116.30621519, 115.87450637, 115.5867005 ,\n",
       "       114.81921816, 117.12166517, 117.21760046, 114.00376817,\n",
       "       114.19563876, 114.72328287, 117.93711516, 114.81921816,\n",
       "       113.95580053, 115.63466814, 115.68263579, 117.88914751,\n",
       "       113.7159623 , 115.10702404, 116.2102799 , 115.53873285,\n",
       "       117.50540634, 114.29157405, 116.64198871, 117.55337399,\n",
       "       117.31353576, 113.47612407, 117.31353576, 117.07369753,\n",
       "       117.84117986, 115.73060344, 114.38750934, 114.62734757,\n",
       "       117.74524457, 116.16231225, 115.25092697, 114.8671858 ,\n",
       "       114.67531522, 115.10702404, 115.34686227, 115.15499168,\n",
       "       115.25092697, 118.03305045, 115.87450637, 114.05173582,\n",
       "       116.49808577, 118.08101809, 117.12166517, 113.42815642,\n",
       "       115.77857108, 115.05905639, 113.57205936, 115.10702404,\n",
       "       117.50540634, 116.97776223, 116.16231225, 115.29889462,\n",
       "       113.33222113, 116.97776223, 113.38018878, 116.92979459,\n",
       "       115.15499168, 117.88914751, 117.50540634, 116.01840931,\n",
       "       115.5867005 , 114.09970347, 116.2102799 , 115.77857108,\n",
       "       115.25092697, 115.44279756, 116.1143446 , 117.55337399,\n",
       "       117.4574387 , 117.74524457, 117.93711516, 114.05173582,\n",
       "       115.25092697, 116.06637696, 116.88182694, 117.88914751,\n",
       "       117.64930928, 117.02572988, 116.40215048, 113.62002701,\n",
       "       116.59402107, 115.87450637, 114.05173582, 113.76392994,\n",
       "       114.43547699, 117.93711516, 114.09970347, 115.20295933,\n",
       "       117.16963282, 116.1143446 , 117.26556811, 117.3615034 ,\n",
       "       113.47612407, 117.07369753, 115.39482991, 117.84117986,\n",
       "       117.69727693, 117.40947105, 114.62734757, 115.15499168,\n",
       "       116.35418283, 115.77857108, 117.84117986, 116.40215048,\n",
       "       117.50540634, 114.00376817, 114.62734757, 113.38018878,\n",
       "       115.77857108, 116.78589165, 113.66799465, 116.35418283,\n",
       "       114.9631211 , 115.77857108, 114.48344464, 113.81189759,\n",
       "       116.88182694, 117.84117986, 113.42815642, 116.97776223,\n",
       "       117.16963282, 115.39482991, 113.76392994, 115.73060344,\n",
       "       115.92247402, 115.05905639, 115.44279756, 117.40947105,\n",
       "       116.97776223, 115.10702404, 116.06637696, 117.16963282,\n",
       "       115.34686227, 114.62734757, 115.39482991, 116.59402107,\n",
       "       114.38750934, 117.69727693, 117.55337399, 114.67531522,\n",
       "       115.25092697, 113.76392994, 115.97044167, 115.82653873,\n",
       "       113.47612407, 115.20295933, 117.50540634, 118.08101809,\n",
       "       117.3615034 , 117.64930928, 115.63466814, 116.92979459,\n",
       "       115.73060344, 117.21760046, 116.68995636, 114.05173582,\n",
       "       115.97044167, 115.77857108, 117.64930928, 117.26556811,\n",
       "       115.92247402, 116.49808577, 116.25824754, 116.06637696,\n",
       "       117.50540634, 116.2102799 , 113.47612407, 115.73060344,\n",
       "       117.40947105, 117.26556811, 117.93711516, 116.97776223,\n",
       "       117.69727693, 113.33222113, 114.19563876, 117.07369753,\n",
       "       115.25092697, 115.82653873, 113.95580053, 117.21760046,\n",
       "       114.19563876, 117.79321222, 114.24360641, 113.57205936,\n",
       "       114.14767111, 115.87450637, 117.60134163, 114.29157405,\n",
       "       113.85986524, 115.5867005 , 114.48344464, 116.1143446 ,\n",
       "       114.9631211 , 117.88914751, 116.45011813, 115.4907652 ,\n",
       "       118.08101809, 117.64930928, 116.40215048, 114.00376817,\n",
       "       118.03305045, 114.29157405, 117.12166517, 115.20295933,\n",
       "       116.68995636, 115.68263579, 116.8338593 , 116.88182694,\n",
       "       116.2102799 , 116.16231225, 114.8671858 , 113.76392994,\n",
       "       116.01840931, 115.97044167, 117.74524457, 113.47612407,\n",
       "       117.31353576, 115.5867005 , 113.52409171, 115.5867005 ,\n",
       "       114.81921816, 117.07369753, 115.4907652 , 116.06637696,\n",
       "       117.07369753, 116.64198871, 116.30621519, 113.90783288,\n",
       "       117.9850828 , 117.84117986, 115.29889462, 117.31353576])"
      ]
     },
     "execution_count": 23,
     "metadata": {},
     "output_type": "execute_result"
    }
   ],
   "source": [
    "model.predict(X.reshape(-1,1))"
   ]
  },
  {
   "cell_type": "code",
   "execution_count": 24,
   "metadata": {},
   "outputs": [],
   "source": [
    "from sklearn.metrics import mean_squared_error"
   ]
  },
  {
   "cell_type": "code",
   "execution_count": 25,
   "metadata": {},
   "outputs": [
    {
     "data": {
      "text/plain": [
       "557.3853772685974"
      ]
     },
     "execution_count": 25,
     "metadata": {},
     "output_type": "execute_result"
    }
   ],
   "source": [
    "mean_squared_error(Y, model.predict(X.reshape(-1,1)))"
   ]
  }
 ],
 "metadata": {
  "kernelspec": {
   "display_name": "Python 3",
   "language": "python",
   "name": "python3"
  },
  "language_info": {
   "codemirror_mode": {
    "name": "ipython",
    "version": 3
   },
   "file_extension": ".py",
   "mimetype": "text/x-python",
   "name": "python",
   "nbconvert_exporter": "python",
   "pygments_lexer": "ipython3",
   "version": "3.7.0"
  }
 },
 "nbformat": 4,
 "nbformat_minor": 2
}
